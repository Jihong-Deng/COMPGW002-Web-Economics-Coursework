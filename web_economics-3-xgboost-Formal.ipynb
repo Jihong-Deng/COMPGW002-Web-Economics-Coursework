{
 "cells": [
  {
   "cell_type": "code",
   "execution_count": 1,
   "metadata": {
    "collapsed": true
   },
   "outputs": [],
   "source": [
    "import numpy as np\n",
    "import pandas as pd\n",
    "import seaborn as sns\n",
    "from IPython.display import display\n",
    "\n",
    "from sklearn.ensemble import RandomForestClassifier\n",
    "from sklearn.metrics import accuracy_score\n",
    "from sklearn.tree import DecisionTreeClassifier\n",
    "from sklearn.ensemble import AdaBoostClassifier\n",
    "from sklearn.linear_model import LogisticRegression"
   ]
  },
  {
   "cell_type": "code",
   "execution_count": 2,
   "metadata": {
    "collapsed": true
   },
   "outputs": [],
   "source": [
    "import scipy.sparse\n",
    "import pickle\n",
    "import xgboost as xgb\n",
    "from xgboost import plot_importance\n",
    "from matplotlib import pyplot\n",
    "from sklearn.feature_extraction.text import CountVectorizer"
   ]
  },
  {
   "cell_type": "code",
   "execution_count": 3,
   "metadata": {},
   "outputs": [
    {
     "name": "stderr",
     "output_type": "stream",
     "text": [
      "/Users/bonnieliu/anaconda3/lib/python3.6/site-packages/sklearn/cross_validation.py:41: DeprecationWarning: This module was deprecated in version 0.18 in favor of the model_selection module into which all the refactored classes and functions are moved. Also note that the interface of the new CV iterators are different from that of this module. This module will be removed in 0.20.\n",
      "  \"This module will be removed in 0.20.\", DeprecationWarning)\n",
      "/Users/bonnieliu/anaconda3/lib/python3.6/site-packages/sklearn/grid_search.py:42: DeprecationWarning: This module was deprecated in version 0.18 in favor of the model_selection module into which all the refactored classes and functions are moved. This module will be removed in 0.20.\n",
      "  DeprecationWarning)\n"
     ]
    }
   ],
   "source": [
    "from xgboost.sklearn import XGBClassifier\n",
    "from sklearn import cross_validation, metrics   #Additional scklearn functions\n",
    "from sklearn.grid_search import GridSearchCV   #Perforing grid search\n",
    "\n",
    "import matplotlib.pylab as plt\n",
    "%matplotlib inline\n"
   ]
  },
  {
   "cell_type": "code",
   "execution_count": 4,
   "metadata": {
    "collapsed": true
   },
   "outputs": [],
   "source": [
    "row_train = pd.read_csv(\"/Users/bonnieliu/Downloads/OneDrive_2018-02-26/train.csv\", sep=',')\n",
    "row_val = pd.read_csv(\"/Users/bonnieliu/Downloads/OneDrive_2018-02-26/validation.csv\", sep=',')\n",
    "row_test = pd.read_csv(\"/Users/bonnieliu/Downloads/OneDrive_2018-02-26/test.csv\", sep=',')"
   ]
  },
  {
   "cell_type": "code",
   "execution_count": 5,
   "metadata": {
    "scrolled": true
   },
   "outputs": [
    {
     "data": {
      "text/plain": [
       "array(['windows_ie', 'windows_chrome', 'mac_other', 'windows_other',\n",
       "       'android_safari', 'mac_safari', 'windows_maxthon',\n",
       "       'windows_firefox', 'mac_chrome', 'linux_firefox', 'windows_opera',\n",
       "       'windows_theworld', 'android_other', 'windows_safari', 'ios_safari',\n",
       "       'linux_other', 'mac_firefox', 'android_opera', 'mac_maxthon',\n",
       "       'other_other', 'android_chrome', 'linux_chrome', 'other_opera',\n",
       "       'linux_safari', 'other_ie', 'ios_other', 'linux_opera',\n",
       "       'android_sogou', 'other_safari', 'windows_sogou', 'mac_opera',\n",
       "       'mac_sogou', 'android_maxthon', 'android_firefox', 'linux_ie',\n",
       "       'other_chrome', 'android_ie', 'other_firefox'], dtype=object)"
      ]
     },
     "execution_count": 5,
     "metadata": {},
     "output_type": "execute_result"
    }
   ],
   "source": [
    "row_train.useragent.unique()"
   ]
  },
  {
   "cell_type": "markdown",
   "metadata": {},
   "source": [
    "# Feature engineering"
   ]
  },
  {
   "cell_type": "code",
   "execution_count": 6,
   "metadata": {
    "collapsed": true
   },
   "outputs": [],
   "source": [
    "#train set usetag\n",
    "data_usertag=row_train.usertag.fillna('0')\n",
    "data_usertag=data_usertag.str.replace(',',' ')\n",
    "vect=CountVectorizer()\n",
    "data_usertag_vect=vect.fit_transform(data_usertag)\n",
    "usertag_train=pd.DataFrame(data_usertag_vect.toarray(),columns=vect.get_feature_names())"
   ]
  },
  {
   "cell_type": "code",
   "execution_count": 7,
   "metadata": {
    "collapsed": true
   },
   "outputs": [],
   "source": [
    "#val set usertag\n",
    "data_usertag=row_val.usertag.fillna('0')\n",
    "data_usertag=data_usertag.str.replace(',',' ')\n",
    "vect=CountVectorizer()\n",
    "data_usertag_vect=vect.fit_transform(data_usertag)\n",
    "usertag_val=pd.DataFrame(data_usertag_vect.toarray(),columns=vect.get_feature_names())"
   ]
  },
  {
   "cell_type": "code",
   "execution_count": 8,
   "metadata": {
    "collapsed": true
   },
   "outputs": [],
   "source": [
    "#test set usertag\n",
    "data_usertag=row_test.usertag.fillna('0')\n",
    "data_usertag=data_usertag.str.replace(',',' ')\n",
    "vect=CountVectorizer()\n",
    "data_usertag_vect=vect.fit_transform(data_usertag)\n",
    "usertag_test=pd.DataFrame(data_usertag_vect.toarray(),columns=vect.get_feature_names())"
   ]
  },
  {
   "cell_type": "code",
   "execution_count": 9,
   "metadata": {
    "collapsed": true
   },
   "outputs": [],
   "source": [
    "hour_mapping = {  \n",
    "           1: 'midnight',2: 'midnight',3: 'midnight',4: 'midnight',5: 'midnight',6: 'midnight',7: 'midnight',8: 'midnight',  \n",
    "           9: 'day',10: 'day',11: 'day',12: 'day',13: 'day',14: 'day',15: 'day',16: 'day' , \n",
    "           17: 'night',18: 'night',19: 'night',20: 'night',21: 'night',22: 'night',23: 'night',0: 'night'}  \n",
    "row_train['hour'] = row_train['hour'].map(hour_mapping)  "
   ]
  },
  {
   "cell_type": "code",
   "execution_count": 10,
   "metadata": {
    "collapsed": true
   },
   "outputs": [],
   "source": [
    "row_val['hour'] = row_val['hour'].map(hour_mapping)  \n",
    "row_test['hour'] = row_test['hour'].map(hour_mapping)  "
   ]
  },
  {
   "cell_type": "code",
   "execution_count": 11,
   "metadata": {},
   "outputs": [
    {
     "data": {
      "text/plain": [
       "Index(['click', 'weekday', 'hour', 'bidid', 'userid', 'useragent', 'IP',\n",
       "       'region', 'city', 'adexchange', 'domain', 'url', 'urlid', 'slotid',\n",
       "       'slotwidth', 'slotheight', 'slotvisibility', 'slotformat', 'slotprice',\n",
       "       'creative', 'bidprice', 'payprice', 'keypage', 'advertiser', 'usertag'],\n",
       "      dtype='object')"
      ]
     },
     "execution_count": 11,
     "metadata": {},
     "output_type": "execute_result"
    }
   ],
   "source": [
    "row_train.columns"
   ]
  },
  {
   "cell_type": "code",
   "execution_count": 12,
   "metadata": {
    "collapsed": true
   },
   "outputs": [],
   "source": [
    "useragent_mapping = {  \n",
    "    'windows_ie':'ie', \n",
    "    'windows_chrome':'chrome', \n",
    "    'mac_other':'other', \n",
    "    'windows_other':'other',\n",
    "    'android_safari':'safari',\n",
    "    'mac_safari':'safari', \n",
    "    'windows_maxthon':'maxthon',\n",
    "    'windows_firefox':'firefox', \n",
    "    'mac_chrome':'chrome', \n",
    "    'linux_firefox':'firefox', \n",
    "    'windows_opera':'opera',\n",
    "    'windows_theworld':'theworld', \n",
    "    'android_other':'other', \n",
    "    'windows_safari':'safari',\n",
    "    'ios_safari':'safari',\n",
    "    'linux_other':'other',\n",
    "    'mac_firefox':'firefox', \n",
    "    'android_opera':'opera', \n",
    "    'mac_maxthon':'maxthon',\n",
    "    'other_other':'other', \n",
    "    'android_chrome':'chrome',\n",
    "    'linux_chrome':'chrome',\n",
    "    'other_opera':'opera',\n",
    "    'linux_safari':'safari',\n",
    "    'other_ie':'ie', \n",
    "    'ios_other':'other',\n",
    "    'linux_opera':'opera',\n",
    "    'android_sogou':'sogou', \n",
    "    'other_safari':'safari', \n",
    "    'windows_sogou':'sogou', \n",
    "    'mac_opera':'opera',\n",
    "    'mac_sogou':'sogou', \n",
    "    'android_maxthon':'maxthon',\n",
    "    'android_firefox':'firefox',\n",
    "    'linux_ie':'ie',\n",
    "    'other_chrome':'chrome',\n",
    "    'android_ie':'ie', \n",
    "    'other_firefox':'firefox'}  \n",
    "row_train['browse'] = row_train['useragent'].map(useragent_mapping)  "
   ]
  },
  {
   "cell_type": "code",
   "execution_count": 13,
   "metadata": {
    "collapsed": true
   },
   "outputs": [],
   "source": [
    "row_val['browse'] = row_val['useragent'].map(useragent_mapping)  \n",
    "row_test['browse'] = row_test['useragent'].map(useragent_mapping)  "
   ]
  },
  {
   "cell_type": "code",
   "execution_count": 14,
   "metadata": {
    "collapsed": true
   },
   "outputs": [],
   "source": [
    "useragent_mapping1 = {  \n",
    "    'windows_ie':'windows', \n",
    "    'windows_chrome':'windows', \n",
    "    'mac_other':'mac', \n",
    "    'windows_other':'windows',\n",
    "    'android_safari':'android',\n",
    "    'mac_safari':'mac', \n",
    "    'windows_maxthon':'windows',\n",
    "    'windows_firefox':'windows', \n",
    "    'mac_chrome':'mac', \n",
    "    'linux_firefox':'linux', \n",
    "    'windows_opera':'windows',\n",
    "    'windows_theworld':'windows', \n",
    "    'android_other':'android', \n",
    "    'windows_safari':'windows',\n",
    "    'ios_safari':'ios',\n",
    "    'linux_other':'linux',\n",
    "    'mac_firefox':'mac', \n",
    "    'android_opera':'android', \n",
    "    'mac_maxthon':'mac',\n",
    "    'other_other':'other', \n",
    "    'android_chrome':'android',\n",
    "    'linux_chrome':'linux',\n",
    "    'other_opera':'other',\n",
    "    'linux_safari':'linux',\n",
    "    'other_ie':'other', \n",
    "    'ios_other':'ios',\n",
    "    'linux_opera':'linux',\n",
    "    'android_sogou':'android', \n",
    "    'other_safari':'other', \n",
    "    'windows_sogou':'windows', \n",
    "    'mac_opera':'mac',\n",
    "    'mac_sogou':'mac', \n",
    "    'android_maxthon':'android',\n",
    "    'android_firefox':'android',\n",
    "    'linux_ie':'linux',\n",
    "    'other_chrome':'other',\n",
    "    'android_ie':'android', \n",
    "    'other_firefox':'other'}  \n",
    "row_train['agent'] = row_train['useragent'].map(useragent_mapping1)  "
   ]
  },
  {
   "cell_type": "code",
   "execution_count": 15,
   "metadata": {
    "collapsed": true
   },
   "outputs": [],
   "source": [
    "row_val['agent'] = row_val['useragent'].map(useragent_mapping1)  \n",
    "row_test['agent'] = row_test['useragent'].map(useragent_mapping1)  "
   ]
  },
  {
   "cell_type": "code",
   "execution_count": 16,
   "metadata": {
    "collapsed": true
   },
   "outputs": [],
   "source": [
    "slotvisibility_mapping = {  \n",
    "    '0':0, \n",
    "    '1':1, \n",
    "    '2':2, \n",
    "    '255':4,\n",
    "    'FifthView':5,\n",
    "    'FirstView':6, \n",
    "    'FourthView':7,\n",
    "    'Na':8, \n",
    "    'OtherView':9, \n",
    "    'SecondView':10, \n",
    "    'ThirdView':11,\n",
    "    }  \n",
    "row_train['slotview'] = row_train['slotvisibility'].map(slotvisibility_mapping)  "
   ]
  },
  {
   "cell_type": "code",
   "execution_count": 17,
   "metadata": {
    "collapsed": true
   },
   "outputs": [],
   "source": [
    "row_val['slotview'] = row_val['slotvisibility'].map(slotvisibility_mapping)\n",
    "row_test['slotview'] = row_test['slotvisibility'].map(slotvisibility_mapping)  "
   ]
  },
  {
   "cell_type": "code",
   "execution_count": 18,
   "metadata": {},
   "outputs": [
    {
     "data": {
      "text/plain": [
       "click             0\n",
       "weekday           0\n",
       "hour              0\n",
       "bidid             0\n",
       "userid            0\n",
       "useragent         0\n",
       "IP                0\n",
       "region            0\n",
       "city              0\n",
       "adexchange        0\n",
       "domain            0\n",
       "url               0\n",
       "urlid             0\n",
       "slotid            0\n",
       "slotwidth         0\n",
       "slotheight        0\n",
       "slotvisibility    0\n",
       "slotformat        0\n",
       "slotprice         0\n",
       "creative          0\n",
       "bidprice          0\n",
       "payprice          0\n",
       "keypage           0\n",
       "advertiser        0\n",
       "usertag           0\n",
       "browse            0\n",
       "agent             0\n",
       "slotview          0\n",
       "dtype: int64"
      ]
     },
     "execution_count": 18,
     "metadata": {},
     "output_type": "execute_result"
    }
   ],
   "source": [
    "#check missing\n",
    "row_train.apply(lambda x: sum(x.isnull()))"
   ]
  },
  {
   "cell_type": "code",
   "execution_count": 19,
   "metadata": {},
   "outputs": [
    {
     "data": {
      "text/html": [
       "<div>\n",
       "<style>\n",
       "    .dataframe thead tr:only-child th {\n",
       "        text-align: right;\n",
       "    }\n",
       "\n",
       "    .dataframe thead th {\n",
       "        text-align: left;\n",
       "    }\n",
       "\n",
       "    .dataframe tbody tr th {\n",
       "        vertical-align: top;\n",
       "    }\n",
       "</style>\n",
       "<table border=\"1\" class=\"dataframe\">\n",
       "  <thead>\n",
       "    <tr style=\"text-align: right;\">\n",
       "      <th></th>\n",
       "      <th>click</th>\n",
       "      <th>weekday</th>\n",
       "      <th>hour</th>\n",
       "      <th>bidid</th>\n",
       "      <th>userid</th>\n",
       "      <th>useragent</th>\n",
       "      <th>IP</th>\n",
       "      <th>region</th>\n",
       "      <th>city</th>\n",
       "      <th>adexchange</th>\n",
       "      <th>...</th>\n",
       "      <th>slotprice</th>\n",
       "      <th>creative</th>\n",
       "      <th>bidprice</th>\n",
       "      <th>payprice</th>\n",
       "      <th>keypage</th>\n",
       "      <th>advertiser</th>\n",
       "      <th>usertag</th>\n",
       "      <th>browse</th>\n",
       "      <th>agent</th>\n",
       "      <th>slotview</th>\n",
       "    </tr>\n",
       "  </thead>\n",
       "  <tbody>\n",
       "    <tr>\n",
       "      <th>0</th>\n",
       "      <td>0</td>\n",
       "      <td>5</td>\n",
       "      <td>night</td>\n",
       "      <td>b7bea80521fdecd95d2d761a38c91c3f09618066</td>\n",
       "      <td>2e880fb7d690cf7377b2e42e701728e3f3c0e4c1</td>\n",
       "      <td>windows_ie</td>\n",
       "      <td>125.37.175.*</td>\n",
       "      <td>2</td>\n",
       "      <td>2</td>\n",
       "      <td>2</td>\n",
       "      <td>...</td>\n",
       "      <td>5</td>\n",
       "      <td>a4f763f78ef3eedfe614263b94a8924e</td>\n",
       "      <td>238</td>\n",
       "      <td>5</td>\n",
       "      <td>0f951a030abdaedd733ee8d114ce2944</td>\n",
       "      <td>3427</td>\n",
       "      <td>null</td>\n",
       "      <td>ie</td>\n",
       "      <td>windows</td>\n",
       "      <td>2</td>\n",
       "    </tr>\n",
       "    <tr>\n",
       "      <th>1</th>\n",
       "      <td>0</td>\n",
       "      <td>1</td>\n",
       "      <td>night</td>\n",
       "      <td>4f51205475678f5a124bc76b2c54163bf8eaa7eb</td>\n",
       "      <td>3a1fe01360ff8100e7d006b83b77a3e4c01d928c</td>\n",
       "      <td>windows_chrome</td>\n",
       "      <td>171.36.92.*</td>\n",
       "      <td>238</td>\n",
       "      <td>239</td>\n",
       "      <td>1</td>\n",
       "      <td>...</td>\n",
       "      <td>0</td>\n",
       "      <td>10722</td>\n",
       "      <td>294</td>\n",
       "      <td>23</td>\n",
       "      <td>null</td>\n",
       "      <td>2821</td>\n",
       "      <td>null</td>\n",
       "      <td>chrome</td>\n",
       "      <td>windows</td>\n",
       "      <td>7</td>\n",
       "    </tr>\n",
       "    <tr>\n",
       "      <th>2</th>\n",
       "      <td>0</td>\n",
       "      <td>3</td>\n",
       "      <td>day</td>\n",
       "      <td>b604e3fd054a658ab7ced4285ebf2ef54d2bd890</td>\n",
       "      <td>801d18a056b6fe6b06a794aef17fb0d6daff2414</td>\n",
       "      <td>windows_ie</td>\n",
       "      <td>59.46.106.*</td>\n",
       "      <td>40</td>\n",
       "      <td>41</td>\n",
       "      <td>2</td>\n",
       "      <td>...</td>\n",
       "      <td>5</td>\n",
       "      <td>798b2d49952d77f1eace9f23c210d0b5</td>\n",
       "      <td>238</td>\n",
       "      <td>24</td>\n",
       "      <td>0f951a030abdaedd733ee8d114ce2944</td>\n",
       "      <td>3427</td>\n",
       "      <td>10052,10006,13866,10110</td>\n",
       "      <td>ie</td>\n",
       "      <td>windows</td>\n",
       "      <td>2</td>\n",
       "    </tr>\n",
       "    <tr>\n",
       "      <th>3</th>\n",
       "      <td>0</td>\n",
       "      <td>6</td>\n",
       "      <td>night</td>\n",
       "      <td>0348beeae93e561584c3b50fc9e7746a33048ad7</td>\n",
       "      <td>0d6eaf2259699990e38a1fc5116f112070b9ecdc</td>\n",
       "      <td>windows_ie</td>\n",
       "      <td>114.250.226.*</td>\n",
       "      <td>1</td>\n",
       "      <td>1</td>\n",
       "      <td>1</td>\n",
       "      <td>...</td>\n",
       "      <td>0</td>\n",
       "      <td>cb7c76e7784031272e37af8e7e9b062c</td>\n",
       "      <td>300</td>\n",
       "      <td>25</td>\n",
       "      <td>bebefa5efe83beee17a3d245e7c5085b</td>\n",
       "      <td>1458</td>\n",
       "      <td>13866,10063,10111</td>\n",
       "      <td>ie</td>\n",
       "      <td>windows</td>\n",
       "      <td>2</td>\n",
       "    </tr>\n",
       "    <tr>\n",
       "      <th>4</th>\n",
       "      <td>0</td>\n",
       "      <td>5</td>\n",
       "      <td>midnight</td>\n",
       "      <td>268149c1789bce2bc9798ffd97ec431219bafeb3</td>\n",
       "      <td>a239d9bb642460d974ba67f85e63b8d3e214da0e</td>\n",
       "      <td>windows_ie</td>\n",
       "      <td>183.63.192.*</td>\n",
       "      <td>216</td>\n",
       "      <td>233</td>\n",
       "      <td>2</td>\n",
       "      <td>...</td>\n",
       "      <td>133</td>\n",
       "      <td>7330</td>\n",
       "      <td>277</td>\n",
       "      <td>133</td>\n",
       "      <td>null</td>\n",
       "      <td>2259</td>\n",
       "      <td>null</td>\n",
       "      <td>ie</td>\n",
       "      <td>windows</td>\n",
       "      <td>9</td>\n",
       "    </tr>\n",
       "  </tbody>\n",
       "</table>\n",
       "<p>5 rows × 28 columns</p>\n",
       "</div>"
      ],
      "text/plain": [
       "   click  weekday      hour                                     bidid  \\\n",
       "0      0        5     night  b7bea80521fdecd95d2d761a38c91c3f09618066   \n",
       "1      0        1     night  4f51205475678f5a124bc76b2c54163bf8eaa7eb   \n",
       "2      0        3       day  b604e3fd054a658ab7ced4285ebf2ef54d2bd890   \n",
       "3      0        6     night  0348beeae93e561584c3b50fc9e7746a33048ad7   \n",
       "4      0        5  midnight  268149c1789bce2bc9798ffd97ec431219bafeb3   \n",
       "\n",
       "                                     userid       useragent             IP  \\\n",
       "0  2e880fb7d690cf7377b2e42e701728e3f3c0e4c1      windows_ie   125.37.175.*   \n",
       "1  3a1fe01360ff8100e7d006b83b77a3e4c01d928c  windows_chrome    171.36.92.*   \n",
       "2  801d18a056b6fe6b06a794aef17fb0d6daff2414      windows_ie    59.46.106.*   \n",
       "3  0d6eaf2259699990e38a1fc5116f112070b9ecdc      windows_ie  114.250.226.*   \n",
       "4  a239d9bb642460d974ba67f85e63b8d3e214da0e      windows_ie   183.63.192.*   \n",
       "\n",
       "   region  city adexchange   ...    slotprice  \\\n",
       "0       2     2          2   ...            5   \n",
       "1     238   239          1   ...            0   \n",
       "2      40    41          2   ...            5   \n",
       "3       1     1          1   ...            0   \n",
       "4     216   233          2   ...          133   \n",
       "\n",
       "                           creative bidprice payprice  \\\n",
       "0  a4f763f78ef3eedfe614263b94a8924e      238        5   \n",
       "1                             10722      294       23   \n",
       "2  798b2d49952d77f1eace9f23c210d0b5      238       24   \n",
       "3  cb7c76e7784031272e37af8e7e9b062c      300       25   \n",
       "4                              7330      277      133   \n",
       "\n",
       "                            keypage  advertiser                  usertag  \\\n",
       "0  0f951a030abdaedd733ee8d114ce2944        3427                     null   \n",
       "1                              null        2821                     null   \n",
       "2  0f951a030abdaedd733ee8d114ce2944        3427  10052,10006,13866,10110   \n",
       "3  bebefa5efe83beee17a3d245e7c5085b        1458        13866,10063,10111   \n",
       "4                              null        2259                     null   \n",
       "\n",
       "   browse    agent slotview  \n",
       "0      ie  windows        2  \n",
       "1  chrome  windows        7  \n",
       "2      ie  windows        2  \n",
       "3      ie  windows        2  \n",
       "4      ie  windows        9  \n",
       "\n",
       "[5 rows x 28 columns]"
      ]
     },
     "execution_count": 19,
     "metadata": {},
     "output_type": "execute_result"
    }
   ],
   "source": [
    "row_train.head()"
   ]
  },
  {
   "cell_type": "code",
   "execution_count": 20,
   "metadata": {},
   "outputs": [
    {
     "data": {
      "text/plain": [
       "click              int64\n",
       "weekday            int64\n",
       "hour              object\n",
       "bidid             object\n",
       "userid            object\n",
       "useragent         object\n",
       "IP                object\n",
       "region             int64\n",
       "city               int64\n",
       "adexchange        object\n",
       "domain            object\n",
       "url               object\n",
       "urlid             object\n",
       "slotid            object\n",
       "slotwidth          int64\n",
       "slotheight         int64\n",
       "slotvisibility    object\n",
       "slotformat        object\n",
       "slotprice          int64\n",
       "creative          object\n",
       "bidprice           int64\n",
       "payprice           int64\n",
       "keypage           object\n",
       "advertiser         int64\n",
       "usertag           object\n",
       "browse            object\n",
       "agent             object\n",
       "slotview           int64\n",
       "dtype: object"
      ]
     },
     "execution_count": 20,
     "metadata": {},
     "output_type": "execute_result"
    }
   ],
   "source": [
    "row_train.dtypes"
   ]
  },
  {
   "cell_type": "code",
   "execution_count": 21,
   "metadata": {
    "collapsed": true
   },
   "outputs": [],
   "source": [
    "def onehot_encoding(data,cols):\n",
    "    for col in cols:\n",
    "        df_temp = pd.get_dummies(data[col],prefix=col, drop_first=True)\n",
    "        data = data.join(df_temp)\n",
    "        \n",
    "    return data"
   ]
  },
  {
   "cell_type": "code",
   "execution_count": 22,
   "metadata": {
    "collapsed": true
   },
   "outputs": [],
   "source": [
    "not_contains = ['click','bidid', 'userid', 'useragent', 'IP',\n",
    "        'city', 'adexchange', 'domain', 'url', 'urlid', 'slotid',\n",
    "        'slotformat', 'slotprice','slotview','weekday','advertiser','region','city','slotwidth',\n",
    "       'creative', 'bidprice', 'payprice', 'keypage',  'usertag','hour','browse','agent','slotvisibility']"
   ]
  },
  {
   "cell_type": "code",
   "execution_count": 23,
   "metadata": {
    "collapsed": true
   },
   "outputs": [],
   "source": [
    "columns=['hour', 'slotview','weekday','advertiser',\n",
    "       'browse','agent','region','slotwidth']"
   ]
  },
  {
   "cell_type": "code",
   "execution_count": 24,
   "metadata": {
    "collapsed": true
   },
   "outputs": [],
   "source": [
    "x_train1 = onehot_encoding(row_train,columns)"
   ]
  },
  {
   "cell_type": "code",
   "execution_count": 25,
   "metadata": {
    "collapsed": true
   },
   "outputs": [],
   "source": [
    "y_train = row_train['click']\n",
    "x_val1 = onehot_encoding(row_val,columns)\n",
    "y_val = row_val['click']\n",
    "x_test1 = onehot_encoding(row_test,columns)"
   ]
  },
  {
   "cell_type": "code",
   "execution_count": 26,
   "metadata": {
    "collapsed": true
   },
   "outputs": [],
   "source": [
    "def get_x_features(data):\n",
    "    columns_train = data.columns\n",
    "    columns_train_values = np.array(columns_train)\n",
    "    train_cols = []\n",
    "    for col in columns_train_values:\n",
    "        if col not in not_contains:\n",
    "            train_cols.append(col)\n",
    "    return train_cols"
   ]
  },
  {
   "cell_type": "code",
   "execution_count": 27,
   "metadata": {},
   "outputs": [
    {
     "data": {
      "text/html": [
       "<div>\n",
       "<style>\n",
       "    .dataframe thead tr:only-child th {\n",
       "        text-align: right;\n",
       "    }\n",
       "\n",
       "    .dataframe thead th {\n",
       "        text-align: left;\n",
       "    }\n",
       "\n",
       "    .dataframe tbody tr th {\n",
       "        vertical-align: top;\n",
       "    }\n",
       "</style>\n",
       "<table border=\"1\" class=\"dataframe\">\n",
       "  <thead>\n",
       "    <tr style=\"text-align: right;\">\n",
       "      <th></th>\n",
       "      <th>slotheight</th>\n",
       "      <th>hour_midnight</th>\n",
       "      <th>hour_night</th>\n",
       "      <th>slotview_1</th>\n",
       "      <th>slotview_2</th>\n",
       "      <th>slotview_4</th>\n",
       "      <th>slotview_5</th>\n",
       "      <th>slotview_6</th>\n",
       "      <th>slotview_7</th>\n",
       "      <th>slotview_8</th>\n",
       "      <th>...</th>\n",
       "      <th>13874</th>\n",
       "      <th>14273</th>\n",
       "      <th>15398</th>\n",
       "      <th>16593</th>\n",
       "      <th>16617</th>\n",
       "      <th>16661</th>\n",
       "      <th>16706</th>\n",
       "      <th>16751</th>\n",
       "      <th>16753</th>\n",
       "      <th>null</th>\n",
       "    </tr>\n",
       "  </thead>\n",
       "  <tbody>\n",
       "    <tr>\n",
       "      <th>0</th>\n",
       "      <td>200</td>\n",
       "      <td>0</td>\n",
       "      <td>1</td>\n",
       "      <td>0</td>\n",
       "      <td>1</td>\n",
       "      <td>0</td>\n",
       "      <td>0</td>\n",
       "      <td>0</td>\n",
       "      <td>0</td>\n",
       "      <td>0</td>\n",
       "      <td>...</td>\n",
       "      <td>0</td>\n",
       "      <td>0</td>\n",
       "      <td>0</td>\n",
       "      <td>0</td>\n",
       "      <td>0</td>\n",
       "      <td>0</td>\n",
       "      <td>0</td>\n",
       "      <td>0</td>\n",
       "      <td>0</td>\n",
       "      <td>1</td>\n",
       "    </tr>\n",
       "    <tr>\n",
       "      <th>1</th>\n",
       "      <td>250</td>\n",
       "      <td>0</td>\n",
       "      <td>1</td>\n",
       "      <td>0</td>\n",
       "      <td>0</td>\n",
       "      <td>0</td>\n",
       "      <td>0</td>\n",
       "      <td>0</td>\n",
       "      <td>1</td>\n",
       "      <td>0</td>\n",
       "      <td>...</td>\n",
       "      <td>0</td>\n",
       "      <td>0</td>\n",
       "      <td>0</td>\n",
       "      <td>0</td>\n",
       "      <td>0</td>\n",
       "      <td>0</td>\n",
       "      <td>0</td>\n",
       "      <td>0</td>\n",
       "      <td>0</td>\n",
       "      <td>1</td>\n",
       "    </tr>\n",
       "    <tr>\n",
       "      <th>2</th>\n",
       "      <td>250</td>\n",
       "      <td>0</td>\n",
       "      <td>0</td>\n",
       "      <td>0</td>\n",
       "      <td>1</td>\n",
       "      <td>0</td>\n",
       "      <td>0</td>\n",
       "      <td>0</td>\n",
       "      <td>0</td>\n",
       "      <td>0</td>\n",
       "      <td>...</td>\n",
       "      <td>0</td>\n",
       "      <td>0</td>\n",
       "      <td>0</td>\n",
       "      <td>0</td>\n",
       "      <td>0</td>\n",
       "      <td>0</td>\n",
       "      <td>0</td>\n",
       "      <td>0</td>\n",
       "      <td>0</td>\n",
       "      <td>0</td>\n",
       "    </tr>\n",
       "    <tr>\n",
       "      <th>3</th>\n",
       "      <td>600</td>\n",
       "      <td>0</td>\n",
       "      <td>1</td>\n",
       "      <td>0</td>\n",
       "      <td>1</td>\n",
       "      <td>0</td>\n",
       "      <td>0</td>\n",
       "      <td>0</td>\n",
       "      <td>0</td>\n",
       "      <td>0</td>\n",
       "      <td>...</td>\n",
       "      <td>0</td>\n",
       "      <td>0</td>\n",
       "      <td>0</td>\n",
       "      <td>0</td>\n",
       "      <td>0</td>\n",
       "      <td>0</td>\n",
       "      <td>0</td>\n",
       "      <td>0</td>\n",
       "      <td>0</td>\n",
       "      <td>0</td>\n",
       "    </tr>\n",
       "    <tr>\n",
       "      <th>4</th>\n",
       "      <td>90</td>\n",
       "      <td>1</td>\n",
       "      <td>0</td>\n",
       "      <td>0</td>\n",
       "      <td>0</td>\n",
       "      <td>0</td>\n",
       "      <td>0</td>\n",
       "      <td>0</td>\n",
       "      <td>0</td>\n",
       "      <td>0</td>\n",
       "      <td>...</td>\n",
       "      <td>0</td>\n",
       "      <td>0</td>\n",
       "      <td>0</td>\n",
       "      <td>0</td>\n",
       "      <td>0</td>\n",
       "      <td>0</td>\n",
       "      <td>0</td>\n",
       "      <td>0</td>\n",
       "      <td>0</td>\n",
       "      <td>1</td>\n",
       "    </tr>\n",
       "  </tbody>\n",
       "</table>\n",
       "<p>5 rows × 163 columns</p>\n",
       "</div>"
      ],
      "text/plain": [
       "   slotheight  hour_midnight  hour_night  slotview_1  slotview_2  slotview_4  \\\n",
       "0         200              0           1           0           1           0   \n",
       "1         250              0           1           0           0           0   \n",
       "2         250              0           0           0           1           0   \n",
       "3         600              0           1           0           1           0   \n",
       "4          90              1           0           0           0           0   \n",
       "\n",
       "   slotview_5  slotview_6  slotview_7  slotview_8  ...   13874  14273  15398  \\\n",
       "0           0           0           0           0  ...       0      0      0   \n",
       "1           0           0           1           0  ...       0      0      0   \n",
       "2           0           0           0           0  ...       0      0      0   \n",
       "3           0           0           0           0  ...       0      0      0   \n",
       "4           0           0           0           0  ...       0      0      0   \n",
       "\n",
       "   16593  16617  16661  16706  16751  16753  null  \n",
       "0      0      0      0      0      0      0     1  \n",
       "1      0      0      0      0      0      0     1  \n",
       "2      0      0      0      0      0      0     0  \n",
       "3      0      0      0      0      0      0     0  \n",
       "4      0      0      0      0      0      0     1  \n",
       "\n",
       "[5 rows x 163 columns]"
      ]
     },
     "execution_count": 27,
     "metadata": {},
     "output_type": "execute_result"
    }
   ],
   "source": [
    "x_train = get_x_features(x_train1)\n",
    "trainData = x_train1.loc[:,x_train]\n",
    "x_train = trainData\n",
    "x_train = pd.concat([x_train,usertag_train], axis=1)\n",
    "x_train.head()"
   ]
  },
  {
   "cell_type": "code",
   "execution_count": 28,
   "metadata": {
    "collapsed": true
   },
   "outputs": [],
   "source": [
    "x_val1 = onehot_encoding(row_val,columns)\n",
    "x_test1 = onehot_encoding(row_test,columns)"
   ]
  },
  {
   "cell_type": "code",
   "execution_count": 29,
   "metadata": {
    "collapsed": true
   },
   "outputs": [],
   "source": [
    "x_val = get_x_features(x_val1)\n",
    "x_test = get_x_features(x_test1)\n",
    "x_val = x_val1.loc[:,x_val]\n",
    "x_test = x_test1.loc[:,x_test]"
   ]
  },
  {
   "cell_type": "code",
   "execution_count": 30,
   "metadata": {
    "collapsed": true
   },
   "outputs": [],
   "source": [
    "x_val = pd.concat([x_val,usertag_val], axis=1)\n",
    "x_test = pd.concat([x_test,usertag_test], axis=1)"
   ]
  },
  {
   "cell_type": "code",
   "execution_count": 31,
   "metadata": {},
   "outputs": [
    {
     "data": {
      "text/html": [
       "<div>\n",
       "<style>\n",
       "    .dataframe thead tr:only-child th {\n",
       "        text-align: right;\n",
       "    }\n",
       "\n",
       "    .dataframe thead th {\n",
       "        text-align: left;\n",
       "    }\n",
       "\n",
       "    .dataframe tbody tr th {\n",
       "        vertical-align: top;\n",
       "    }\n",
       "</style>\n",
       "<table border=\"1\" class=\"dataframe\">\n",
       "  <thead>\n",
       "    <tr style=\"text-align: right;\">\n",
       "      <th></th>\n",
       "      <th>slotheight</th>\n",
       "      <th>hour_midnight</th>\n",
       "      <th>hour_night</th>\n",
       "      <th>slotview_1</th>\n",
       "      <th>slotview_2</th>\n",
       "      <th>slotview_4</th>\n",
       "      <th>slotview_5</th>\n",
       "      <th>slotview_6</th>\n",
       "      <th>slotview_7</th>\n",
       "      <th>slotview_8</th>\n",
       "      <th>...</th>\n",
       "      <th>13874</th>\n",
       "      <th>14273</th>\n",
       "      <th>15398</th>\n",
       "      <th>16593</th>\n",
       "      <th>16617</th>\n",
       "      <th>16661</th>\n",
       "      <th>16706</th>\n",
       "      <th>16751</th>\n",
       "      <th>16753</th>\n",
       "      <th>null</th>\n",
       "    </tr>\n",
       "  </thead>\n",
       "  <tbody>\n",
       "    <tr>\n",
       "      <th>0</th>\n",
       "      <td>600</td>\n",
       "      <td>0</td>\n",
       "      <td>1</td>\n",
       "      <td>0</td>\n",
       "      <td>1</td>\n",
       "      <td>0</td>\n",
       "      <td>0</td>\n",
       "      <td>0</td>\n",
       "      <td>0</td>\n",
       "      <td>0</td>\n",
       "      <td>...</td>\n",
       "      <td>0</td>\n",
       "      <td>0</td>\n",
       "      <td>0</td>\n",
       "      <td>0</td>\n",
       "      <td>0</td>\n",
       "      <td>0</td>\n",
       "      <td>0</td>\n",
       "      <td>0</td>\n",
       "      <td>0</td>\n",
       "      <td>0</td>\n",
       "    </tr>\n",
       "    <tr>\n",
       "      <th>1</th>\n",
       "      <td>90</td>\n",
       "      <td>0</td>\n",
       "      <td>1</td>\n",
       "      <td>0</td>\n",
       "      <td>0</td>\n",
       "      <td>0</td>\n",
       "      <td>0</td>\n",
       "      <td>0</td>\n",
       "      <td>0</td>\n",
       "      <td>0</td>\n",
       "      <td>...</td>\n",
       "      <td>0</td>\n",
       "      <td>0</td>\n",
       "      <td>0</td>\n",
       "      <td>0</td>\n",
       "      <td>0</td>\n",
       "      <td>0</td>\n",
       "      <td>0</td>\n",
       "      <td>0</td>\n",
       "      <td>0</td>\n",
       "      <td>0</td>\n",
       "    </tr>\n",
       "    <tr>\n",
       "      <th>2</th>\n",
       "      <td>250</td>\n",
       "      <td>1</td>\n",
       "      <td>0</td>\n",
       "      <td>0</td>\n",
       "      <td>1</td>\n",
       "      <td>0</td>\n",
       "      <td>0</td>\n",
       "      <td>0</td>\n",
       "      <td>0</td>\n",
       "      <td>0</td>\n",
       "      <td>...</td>\n",
       "      <td>0</td>\n",
       "      <td>0</td>\n",
       "      <td>0</td>\n",
       "      <td>0</td>\n",
       "      <td>0</td>\n",
       "      <td>0</td>\n",
       "      <td>0</td>\n",
       "      <td>0</td>\n",
       "      <td>0</td>\n",
       "      <td>0</td>\n",
       "    </tr>\n",
       "    <tr>\n",
       "      <th>3</th>\n",
       "      <td>280</td>\n",
       "      <td>0</td>\n",
       "      <td>0</td>\n",
       "      <td>0</td>\n",
       "      <td>1</td>\n",
       "      <td>0</td>\n",
       "      <td>0</td>\n",
       "      <td>0</td>\n",
       "      <td>0</td>\n",
       "      <td>0</td>\n",
       "      <td>...</td>\n",
       "      <td>0</td>\n",
       "      <td>0</td>\n",
       "      <td>0</td>\n",
       "      <td>0</td>\n",
       "      <td>0</td>\n",
       "      <td>0</td>\n",
       "      <td>0</td>\n",
       "      <td>0</td>\n",
       "      <td>0</td>\n",
       "      <td>0</td>\n",
       "    </tr>\n",
       "    <tr>\n",
       "      <th>4</th>\n",
       "      <td>200</td>\n",
       "      <td>0</td>\n",
       "      <td>1</td>\n",
       "      <td>1</td>\n",
       "      <td>0</td>\n",
       "      <td>0</td>\n",
       "      <td>0</td>\n",
       "      <td>0</td>\n",
       "      <td>0</td>\n",
       "      <td>0</td>\n",
       "      <td>...</td>\n",
       "      <td>0</td>\n",
       "      <td>0</td>\n",
       "      <td>0</td>\n",
       "      <td>0</td>\n",
       "      <td>0</td>\n",
       "      <td>0</td>\n",
       "      <td>0</td>\n",
       "      <td>0</td>\n",
       "      <td>0</td>\n",
       "      <td>0</td>\n",
       "    </tr>\n",
       "  </tbody>\n",
       "</table>\n",
       "<p>5 rows × 163 columns</p>\n",
       "</div>"
      ],
      "text/plain": [
       "   slotheight  hour_midnight  hour_night  slotview_1  slotview_2  slotview_4  \\\n",
       "0         600              0           1           0           1           0   \n",
       "1          90              0           1           0           0           0   \n",
       "2         250              1           0           0           1           0   \n",
       "3         280              0           0           0           1           0   \n",
       "4         200              0           1           1           0           0   \n",
       "\n",
       "   slotview_5  slotview_6  slotview_7  slotview_8  ...   13874  14273  15398  \\\n",
       "0           0           0           0           0  ...       0      0      0   \n",
       "1           0           0           0           0  ...       0      0      0   \n",
       "2           0           0           0           0  ...       0      0      0   \n",
       "3           0           0           0           0  ...       0      0      0   \n",
       "4           0           0           0           0  ...       0      0      0   \n",
       "\n",
       "   16593  16617  16661  16706  16751  16753  null  \n",
       "0      0      0      0      0      0      0     0  \n",
       "1      0      0      0      0      0      0     0  \n",
       "2      0      0      0      0      0      0     0  \n",
       "3      0      0      0      0      0      0     0  \n",
       "4      0      0      0      0      0      0     0  \n",
       "\n",
       "[5 rows x 163 columns]"
      ]
     },
     "execution_count": 31,
     "metadata": {},
     "output_type": "execute_result"
    }
   ],
   "source": [
    "x_val.head()"
   ]
  },
  {
   "cell_type": "markdown",
   "metadata": {},
   "source": [
    "# Sample"
   ]
  },
  {
   "cell_type": "code",
   "execution_count": 32,
   "metadata": {
    "collapsed": true
   },
   "outputs": [],
   "source": [
    "data = pd.concat([y_train,x_train], axis=1)"
   ]
  },
  {
   "cell_type": "code",
   "execution_count": 33,
   "metadata": {},
   "outputs": [
    {
     "name": "stdout",
     "output_type": "stream",
     "text": [
      "2429188\n"
     ]
    },
    {
     "data": {
      "text/plain": [
       "1793"
      ]
     },
     "execution_count": 33,
     "metadata": {},
     "output_type": "execute_result"
    }
   ],
   "source": [
    "df = data\n",
    "df1 = df.groupby(['click']).get_group(0)\n",
    "df2 = df.groupby(['click']).get_group(1)\n",
    "click0 = len(df1)\n",
    "click1 = len(df2)\n",
    "print(click0)\n",
    "click1"
   ]
  },
  {
   "cell_type": "code",
   "execution_count": 34,
   "metadata": {
    "collapsed": true
   },
   "outputs": [],
   "source": [
    "#frac_rate = num(0:1) \n",
    "def sample (frac_rate):\n",
    "    numclick0 = click1*frac_rate \n",
    "    dfclick0 = df1.sample(n = numclick0)\n",
    "    dfclick1 = df2.sample(n = 1793)\n",
    "    frames = [dfclick0,dfclick1]\n",
    "    result = pd.concat(frames)\n",
    "    return result"
   ]
  },
  {
   "cell_type": "code",
   "execution_count": 35,
   "metadata": {},
   "outputs": [
    {
     "data": {
      "text/plain": [
       "91443"
      ]
     },
     "execution_count": 35,
     "metadata": {},
     "output_type": "execute_result"
    }
   ],
   "source": [
    "sample1 = \n",
    "\n",
    "sample(50)\n",
    "len(sample1)"
   ]
  },
  {
   "cell_type": "code",
   "execution_count": 36,
   "metadata": {},
   "outputs": [
    {
     "data": {
      "text/html": [
       "<div>\n",
       "<style>\n",
       "    .dataframe thead tr:only-child th {\n",
       "        text-align: right;\n",
       "    }\n",
       "\n",
       "    .dataframe thead th {\n",
       "        text-align: left;\n",
       "    }\n",
       "\n",
       "    .dataframe tbody tr th {\n",
       "        vertical-align: top;\n",
       "    }\n",
       "</style>\n",
       "<table border=\"1\" class=\"dataframe\">\n",
       "  <thead>\n",
       "    <tr style=\"text-align: right;\">\n",
       "      <th></th>\n",
       "      <th>slotheight</th>\n",
       "      <th>hour_midnight</th>\n",
       "      <th>hour_night</th>\n",
       "      <th>slotview_1</th>\n",
       "      <th>slotview_2</th>\n",
       "      <th>slotview_4</th>\n",
       "      <th>slotview_5</th>\n",
       "      <th>slotview_6</th>\n",
       "      <th>slotview_7</th>\n",
       "      <th>slotview_8</th>\n",
       "      <th>...</th>\n",
       "      <th>13874</th>\n",
       "      <th>14273</th>\n",
       "      <th>15398</th>\n",
       "      <th>16593</th>\n",
       "      <th>16617</th>\n",
       "      <th>16661</th>\n",
       "      <th>16706</th>\n",
       "      <th>16751</th>\n",
       "      <th>16753</th>\n",
       "      <th>null</th>\n",
       "    </tr>\n",
       "  </thead>\n",
       "  <tbody>\n",
       "    <tr>\n",
       "      <th>224827</th>\n",
       "      <td>280</td>\n",
       "      <td>0</td>\n",
       "      <td>0</td>\n",
       "      <td>0</td>\n",
       "      <td>1</td>\n",
       "      <td>0</td>\n",
       "      <td>0</td>\n",
       "      <td>0</td>\n",
       "      <td>0</td>\n",
       "      <td>0</td>\n",
       "      <td>...</td>\n",
       "      <td>0</td>\n",
       "      <td>0</td>\n",
       "      <td>0</td>\n",
       "      <td>0</td>\n",
       "      <td>0</td>\n",
       "      <td>0</td>\n",
       "      <td>0</td>\n",
       "      <td>0</td>\n",
       "      <td>0</td>\n",
       "      <td>0</td>\n",
       "    </tr>\n",
       "    <tr>\n",
       "      <th>2238536</th>\n",
       "      <td>90</td>\n",
       "      <td>0</td>\n",
       "      <td>1</td>\n",
       "      <td>0</td>\n",
       "      <td>0</td>\n",
       "      <td>0</td>\n",
       "      <td>0</td>\n",
       "      <td>0</td>\n",
       "      <td>0</td>\n",
       "      <td>0</td>\n",
       "      <td>...</td>\n",
       "      <td>0</td>\n",
       "      <td>0</td>\n",
       "      <td>0</td>\n",
       "      <td>0</td>\n",
       "      <td>0</td>\n",
       "      <td>0</td>\n",
       "      <td>0</td>\n",
       "      <td>0</td>\n",
       "      <td>0</td>\n",
       "      <td>0</td>\n",
       "    </tr>\n",
       "    <tr>\n",
       "      <th>1395970</th>\n",
       "      <td>250</td>\n",
       "      <td>0</td>\n",
       "      <td>1</td>\n",
       "      <td>0</td>\n",
       "      <td>1</td>\n",
       "      <td>0</td>\n",
       "      <td>0</td>\n",
       "      <td>0</td>\n",
       "      <td>0</td>\n",
       "      <td>0</td>\n",
       "      <td>...</td>\n",
       "      <td>0</td>\n",
       "      <td>0</td>\n",
       "      <td>0</td>\n",
       "      <td>0</td>\n",
       "      <td>0</td>\n",
       "      <td>0</td>\n",
       "      <td>0</td>\n",
       "      <td>0</td>\n",
       "      <td>0</td>\n",
       "      <td>0</td>\n",
       "    </tr>\n",
       "    <tr>\n",
       "      <th>1330632</th>\n",
       "      <td>280</td>\n",
       "      <td>0</td>\n",
       "      <td>0</td>\n",
       "      <td>1</td>\n",
       "      <td>0</td>\n",
       "      <td>0</td>\n",
       "      <td>0</td>\n",
       "      <td>0</td>\n",
       "      <td>0</td>\n",
       "      <td>0</td>\n",
       "      <td>...</td>\n",
       "      <td>0</td>\n",
       "      <td>0</td>\n",
       "      <td>0</td>\n",
       "      <td>0</td>\n",
       "      <td>0</td>\n",
       "      <td>0</td>\n",
       "      <td>0</td>\n",
       "      <td>0</td>\n",
       "      <td>0</td>\n",
       "      <td>0</td>\n",
       "    </tr>\n",
       "    <tr>\n",
       "      <th>397740</th>\n",
       "      <td>250</td>\n",
       "      <td>0</td>\n",
       "      <td>1</td>\n",
       "      <td>1</td>\n",
       "      <td>0</td>\n",
       "      <td>0</td>\n",
       "      <td>0</td>\n",
       "      <td>0</td>\n",
       "      <td>0</td>\n",
       "      <td>0</td>\n",
       "      <td>...</td>\n",
       "      <td>0</td>\n",
       "      <td>0</td>\n",
       "      <td>0</td>\n",
       "      <td>0</td>\n",
       "      <td>0</td>\n",
       "      <td>0</td>\n",
       "      <td>0</td>\n",
       "      <td>0</td>\n",
       "      <td>0</td>\n",
       "      <td>0</td>\n",
       "    </tr>\n",
       "  </tbody>\n",
       "</table>\n",
       "<p>5 rows × 163 columns</p>\n",
       "</div>"
      ],
      "text/plain": [
       "         slotheight  hour_midnight  hour_night  slotview_1  slotview_2  \\\n",
       "224827          280              0           0           0           1   \n",
       "2238536          90              0           1           0           0   \n",
       "1395970         250              0           1           0           1   \n",
       "1330632         280              0           0           1           0   \n",
       "397740          250              0           1           1           0   \n",
       "\n",
       "         slotview_4  slotview_5  slotview_6  slotview_7  slotview_8  ...   \\\n",
       "224827            0           0           0           0           0  ...    \n",
       "2238536           0           0           0           0           0  ...    \n",
       "1395970           0           0           0           0           0  ...    \n",
       "1330632           0           0           0           0           0  ...    \n",
       "397740            0           0           0           0           0  ...    \n",
       "\n",
       "         13874  14273  15398  16593  16617  16661  16706  16751  16753  null  \n",
       "224827       0      0      0      0      0      0      0      0      0     0  \n",
       "2238536      0      0      0      0      0      0      0      0      0     0  \n",
       "1395970      0      0      0      0      0      0      0      0      0     0  \n",
       "1330632      0      0      0      0      0      0      0      0      0     0  \n",
       "397740       0      0      0      0      0      0      0      0      0     0  \n",
       "\n",
       "[5 rows x 163 columns]"
      ]
     },
     "execution_count": 36,
     "metadata": {},
     "output_type": "execute_result"
    }
   ],
   "source": [
    "sample_y = pd.DataFrame(sample1,columns=['click'])\n",
    "sample_x = sample1.drop(['click'],axis=1)\n",
    "sample_x.head()"
   ]
  },
  {
   "cell_type": "code",
   "execution_count": 38,
   "metadata": {},
   "outputs": [
    {
     "data": {
      "text/plain": [
       "Index(['slotheight', 'hour_midnight', 'hour_night', 'slotview_1', 'slotview_2',\n",
       "       'slotview_4', 'slotview_5', 'slotview_6', 'slotview_7', 'slotview_8',\n",
       "       ...\n",
       "       '13874', '14273', '15398', '16593', '16617', '16661', '16706', '16751',\n",
       "       '16753', 'null'],\n",
       "      dtype='object', length=163)"
      ]
     },
     "execution_count": 38,
     "metadata": {},
     "output_type": "execute_result"
    }
   ],
   "source": [
    "sample_x.columns"
   ]
  },
  {
   "cell_type": "markdown",
   "metadata": {},
   "source": [
    "# modelling"
   ]
  },
  {
   "cell_type": "code",
   "execution_count": 37,
   "metadata": {
    "collapsed": true
   },
   "outputs": [],
   "source": [
    "from sklearn.externals import joblib"
   ]
  },
  {
   "cell_type": "code",
   "execution_count": 43,
   "metadata": {},
   "outputs": [
    {
     "data": {
      "text/html": [
       "<div>\n",
       "<style>\n",
       "    .dataframe thead tr:only-child th {\n",
       "        text-align: right;\n",
       "    }\n",
       "\n",
       "    .dataframe thead th {\n",
       "        text-align: left;\n",
       "    }\n",
       "\n",
       "    .dataframe tbody tr th {\n",
       "        vertical-align: top;\n",
       "    }\n",
       "</style>\n",
       "<table border=\"1\" class=\"dataframe\">\n",
       "  <thead>\n",
       "    <tr style=\"text-align: right;\">\n",
       "      <th></th>\n",
       "      <th>slotheight</th>\n",
       "      <th>hour_midnight</th>\n",
       "      <th>hour_night</th>\n",
       "      <th>slotview_1</th>\n",
       "      <th>slotview_2</th>\n",
       "      <th>slotview_4</th>\n",
       "      <th>slotview_5</th>\n",
       "      <th>slotview_6</th>\n",
       "      <th>slotview_7</th>\n",
       "      <th>slotview_8</th>\n",
       "      <th>...</th>\n",
       "      <th>13874</th>\n",
       "      <th>14273</th>\n",
       "      <th>15398</th>\n",
       "      <th>16593</th>\n",
       "      <th>16617</th>\n",
       "      <th>16661</th>\n",
       "      <th>16706</th>\n",
       "      <th>16751</th>\n",
       "      <th>16753</th>\n",
       "      <th>null</th>\n",
       "    </tr>\n",
       "  </thead>\n",
       "  <tbody>\n",
       "    <tr>\n",
       "      <th>0</th>\n",
       "      <td>280</td>\n",
       "      <td>0</td>\n",
       "      <td>0</td>\n",
       "      <td>0</td>\n",
       "      <td>1</td>\n",
       "      <td>0</td>\n",
       "      <td>0</td>\n",
       "      <td>0</td>\n",
       "      <td>0</td>\n",
       "      <td>0</td>\n",
       "      <td>...</td>\n",
       "      <td>0</td>\n",
       "      <td>0</td>\n",
       "      <td>0</td>\n",
       "      <td>0</td>\n",
       "      <td>0</td>\n",
       "      <td>0</td>\n",
       "      <td>0</td>\n",
       "      <td>0</td>\n",
       "      <td>0</td>\n",
       "      <td>0</td>\n",
       "    </tr>\n",
       "    <tr>\n",
       "      <th>1</th>\n",
       "      <td>90</td>\n",
       "      <td>0</td>\n",
       "      <td>1</td>\n",
       "      <td>0</td>\n",
       "      <td>0</td>\n",
       "      <td>0</td>\n",
       "      <td>0</td>\n",
       "      <td>0</td>\n",
       "      <td>0</td>\n",
       "      <td>0</td>\n",
       "      <td>...</td>\n",
       "      <td>0</td>\n",
       "      <td>0</td>\n",
       "      <td>0</td>\n",
       "      <td>0</td>\n",
       "      <td>0</td>\n",
       "      <td>0</td>\n",
       "      <td>0</td>\n",
       "      <td>0</td>\n",
       "      <td>0</td>\n",
       "      <td>0</td>\n",
       "    </tr>\n",
       "    <tr>\n",
       "      <th>2</th>\n",
       "      <td>250</td>\n",
       "      <td>0</td>\n",
       "      <td>1</td>\n",
       "      <td>0</td>\n",
       "      <td>1</td>\n",
       "      <td>0</td>\n",
       "      <td>0</td>\n",
       "      <td>0</td>\n",
       "      <td>0</td>\n",
       "      <td>0</td>\n",
       "      <td>...</td>\n",
       "      <td>0</td>\n",
       "      <td>0</td>\n",
       "      <td>0</td>\n",
       "      <td>0</td>\n",
       "      <td>0</td>\n",
       "      <td>0</td>\n",
       "      <td>0</td>\n",
       "      <td>0</td>\n",
       "      <td>0</td>\n",
       "      <td>0</td>\n",
       "    </tr>\n",
       "    <tr>\n",
       "      <th>3</th>\n",
       "      <td>280</td>\n",
       "      <td>0</td>\n",
       "      <td>0</td>\n",
       "      <td>1</td>\n",
       "      <td>0</td>\n",
       "      <td>0</td>\n",
       "      <td>0</td>\n",
       "      <td>0</td>\n",
       "      <td>0</td>\n",
       "      <td>0</td>\n",
       "      <td>...</td>\n",
       "      <td>0</td>\n",
       "      <td>0</td>\n",
       "      <td>0</td>\n",
       "      <td>0</td>\n",
       "      <td>0</td>\n",
       "      <td>0</td>\n",
       "      <td>0</td>\n",
       "      <td>0</td>\n",
       "      <td>0</td>\n",
       "      <td>0</td>\n",
       "    </tr>\n",
       "    <tr>\n",
       "      <th>4</th>\n",
       "      <td>250</td>\n",
       "      <td>0</td>\n",
       "      <td>1</td>\n",
       "      <td>1</td>\n",
       "      <td>0</td>\n",
       "      <td>0</td>\n",
       "      <td>0</td>\n",
       "      <td>0</td>\n",
       "      <td>0</td>\n",
       "      <td>0</td>\n",
       "      <td>...</td>\n",
       "      <td>0</td>\n",
       "      <td>0</td>\n",
       "      <td>0</td>\n",
       "      <td>0</td>\n",
       "      <td>0</td>\n",
       "      <td>0</td>\n",
       "      <td>0</td>\n",
       "      <td>0</td>\n",
       "      <td>0</td>\n",
       "      <td>0</td>\n",
       "    </tr>\n",
       "  </tbody>\n",
       "</table>\n",
       "<p>5 rows × 163 columns</p>\n",
       "</div>"
      ],
      "text/plain": [
       "   slotheight  hour_midnight  hour_night  slotview_1  slotview_2  slotview_4  \\\n",
       "0         280              0           0           0           1           0   \n",
       "1          90              0           1           0           0           0   \n",
       "2         250              0           1           0           1           0   \n",
       "3         280              0           0           1           0           0   \n",
       "4         250              0           1           1           0           0   \n",
       "\n",
       "   slotview_5  slotview_6  slotview_7  slotview_8  ...   13874  14273  15398  \\\n",
       "0           0           0           0           0  ...       0      0      0   \n",
       "1           0           0           0           0  ...       0      0      0   \n",
       "2           0           0           0           0  ...       0      0      0   \n",
       "3           0           0           0           0  ...       0      0      0   \n",
       "4           0           0           0           0  ...       0      0      0   \n",
       "\n",
       "   16593  16617  16661  16706  16751  16753  null  \n",
       "0      0      0      0      0      0      0     0  \n",
       "1      0      0      0      0      0      0     0  \n",
       "2      0      0      0      0      0      0     0  \n",
       "3      0      0      0      0      0      0     0  \n",
       "4      0      0      0      0      0      0     0  \n",
       "\n",
       "[5 rows x 163 columns]"
      ]
     },
     "execution_count": 43,
     "metadata": {},
     "output_type": "execute_result"
    }
   ],
   "source": [
    "x_train = sample_x.reset_index(drop=True)\n",
    "y_train = sample_y.reset_index(drop=True)\n",
    "x_train.head()"
   ]
  },
  {
   "cell_type": "code",
   "execution_count": 77,
   "metadata": {
    "collapsed": true
   },
   "outputs": [],
   "source": [
    "#Set parameter\n",
    "xgb1 = XGBClassifier(\n",
    " learning_rate =0.1,\n",
    " n_estimators=118,\n",
    " max_depth=5,\n",
    " min_child_weight=1,\n",
    " gamma=0,\n",
    " subsample=0.8,\n",
    " colsample_bytree=0.8,\n",
    " objective= 'binary:logistic',\n",
    " nthread=4,\n",
    " scale_pos_weight=1,\n",
    " seed=27,\n",
    " slient=True)\n"
   ]
  },
  {
   "cell_type": "code",
   "execution_count": 78,
   "metadata": {},
   "outputs": [
    {
     "name": "stdout",
     "output_type": "stream",
     "text": [
      "running cross validation, disable standard deviation display\n",
      "118\n",
      "\n",
      "Model Report\n",
      "Accuracy : 0.9987\n",
      "AUC Score (Validation): 0.872010\n"
     ]
    }
   ],
   "source": [
    "#Model\n",
    "xgb_param = xgb1.get_xgb_params()\n",
    "xgtrain = xgb.DMatrix(x_train, label=y_train)\n",
    "cvresult = xgb.cv(xgb_param, xgtrain, num_boost_round=xgb1.get_params()['n_estimators'], nfold=5,\n",
    "            metrics='auc',early_stopping_rounds=12,)\n",
    "xgb1.set_params(n_estimators=cvresult.shape[0])\n",
    "print('running cross validation, disable standard deviation display')\n",
    "print(cvresult.shape[0])\n",
    "        \n",
    "#Fit the algorithm on the data\n",
    "xgb1.fit(x_train, y_train.values.ravel(),eval_metric='auc')\n",
    "        \n",
    "#Predict validation set:\n",
    "dval_predictions = xgb1.predict(x_val)\n",
    "dval_predprob = xgb1.predict_proba(x_val)[:,1]\n",
    "\n",
    "#Predict test set:\n",
    "dtest_predictions = xgb1.predict(x_test)\n",
    "dtest_predprob = xgb1.predict_proba(x_test)[:,1]\n",
    "    \n",
    "#Save model\n",
    "joblib.dump(xgb1, 'xgb1.model')\n",
    "#Print model report:\n",
    "print (\"\\nModel Report\")\n",
    "print(\"Accuracy : %.4g\" % metrics.accuracy_score(y_val, dval_predictions))\n",
    "print (\"AUC Score (Validation): %f\" % metrics.roc_auc_score(y_val, dval_predprob))\n",
    "                    \n"
   ]
  },
  {
   "cell_type": "code",
   "execution_count": 75,
   "metadata": {},
   "outputs": [
    {
     "data": {
      "text/plain": [
       "['xgb_169.model']"
      ]
     },
     "execution_count": 75,
     "metadata": {},
     "output_type": "execute_result"
    }
   ],
   "source": [
    "#Save model\n",
    "joblib.dump(xgb1, 'xgb_169.model')\n",
    "#Load model\n",
    "xgb = joblib.load('xgb_169.model')"
   ]
  },
  {
   "cell_type": "code",
   "execution_count": 114,
   "metadata": {},
   "outputs": [
    {
     "data": {
      "text/plain": [
       "303925"
      ]
     },
     "execution_count": 114,
     "metadata": {},
     "output_type": "execute_result"
    }
   ],
   "source": [
    "len(dval_predprob)"
   ]
  },
  {
   "cell_type": "code",
   "execution_count": 65,
   "metadata": {
    "collapsed": true
   },
   "outputs": [],
   "source": [
    "#Prepare validation\n",
    "dval_predprob = pd.DataFrame(dval_predprob,columns=['pCTR'])\n",
    "predCTR=dval_predprob"
   ]
  },
  {
   "cell_type": "markdown",
   "metadata": {},
   "source": [
    "# Step2 Tune max_depth & min_child_weight"
   ]
  },
  {
   "cell_type": "code",
   "execution_count": 138,
   "metadata": {
    "collapsed": true
   },
   "outputs": [],
   "source": [
    "param_test1 = {\n",
    " 'max_depth':[3,5,7,9],\n",
    " 'min_child_weight':[1,3,5]\n",
    "}\n",
    " "
   ]
  },
  {
   "cell_type": "code",
   "execution_count": 140,
   "metadata": {},
   "outputs": [
    {
     "data": {
      "text/plain": [
       "([mean: 0.70730, std: 0.00588, params: {'max_depth': 3, 'min_child_weight': 1},\n",
       "  mean: 0.70692, std: 0.00683, params: {'max_depth': 3, 'min_child_weight': 3},\n",
       "  mean: 0.70730, std: 0.00718, params: {'max_depth': 3, 'min_child_weight': 5},\n",
       "  mean: 0.70543, std: 0.00892, params: {'max_depth': 5, 'min_child_weight': 1},\n",
       "  mean: 0.70360, std: 0.00877, params: {'max_depth': 5, 'min_child_weight': 3},\n",
       "  mean: 0.70390, std: 0.00761, params: {'max_depth': 5, 'min_child_weight': 5},\n",
       "  mean: 0.69360, std: 0.01109, params: {'max_depth': 7, 'min_child_weight': 1},\n",
       "  mean: 0.69138, std: 0.00963, params: {'max_depth': 7, 'min_child_weight': 3},\n",
       "  mean: 0.69520, std: 0.00892, params: {'max_depth': 7, 'min_child_weight': 5},\n",
       "  mean: 0.68109, std: 0.01032, params: {'max_depth': 9, 'min_child_weight': 1},\n",
       "  mean: 0.67911, std: 0.01062, params: {'max_depth': 9, 'min_child_weight': 3},\n",
       "  mean: 0.68718, std: 0.00763, params: {'max_depth': 9, 'min_child_weight': 5}],\n",
       " {'max_depth': 3, 'min_child_weight': 5},\n",
       " 0.7073031518027109)"
      ]
     },
     "execution_count": 140,
     "metadata": {},
     "output_type": "execute_result"
    }
   ],
   "source": [
    "#Remember : use optimal n_estimators calculated above\n",
    "gsearch1 = GridSearchCV(estimator = XGBClassifier( learning_rate =0.1, n_estimators=140, max_depth=5,\n",
    " min_child_weight=1, gamma=0, subsample=0.8, colsample_bytree=0.8,\n",
    " objective= 'binary:logistic', nthread=4, scale_pos_weight=1, seed=27), \n",
    " param_grid = param_test1, scoring='roc_auc',n_jobs=4,iid=False, cv=5)\n",
    "gsearch1.fit(x_train,y_train)\n",
    "gsearch1.grid_scores_, gsearch1.best_params_, gsearch1.best_score_"
   ]
  },
  {
   "cell_type": "code",
   "execution_count": null,
   "metadata": {
    "collapsed": true
   },
   "outputs": [],
   "source": [
    "#Narrow down\n",
    "param_test2 = {\n",
    " 'max_depth':[4,5,6],\n",
    " 'min_child_weight':[4,5,6]\n",
    "}\n",
    "gsearch2 = GridSearchCV(estimator = XGBClassifier( learning_rate=0.1, n_estimators=140, max_depth=5,\n",
    " min_child_weight=2, gamma=0, subsample=0.8, colsample_bytree=0.8,\n",
    " objective= 'binary:logistic', nthread=4, scale_pos_weight=1,seed=27), \n",
    " param_grid = param_test2, scoring='roc_auc',n_jobs=4,iid=False, cv=5)\n",
    "gsearch2.fit(train[predictors],train[target])\n",
    "gsearch2.grid_scores_, gsearch2.best_params_, gsearch2.best_score_"
   ]
  },
  {
   "cell_type": "markdown",
   "metadata": {},
   "source": [
    "# Step 3: Tune gamma"
   ]
  },
  {
   "cell_type": "code",
   "execution_count": null,
   "metadata": {
    "collapsed": true
   },
   "outputs": [],
   "source": [
    "#Remember : use optimal max_depth & min_child_weight calculated above\n",
    "param_test3 = {\n",
    " 'gamma':[i/10.0 for i in range(0,5)]\n",
    "}\n",
    "gsearch3 = GridSearchCV(estimator = XGBClassifier( learning_rate =0.1, n_estimators=140, max_depth=3,\n",
    " min_child_weight=5, gamma=0, subsample=0.8, colsample_bytree=0.8,\n",
    " objective= 'binary:logistic', nthread=4, scale_pos_weight=1,seed=27), \n",
    " param_grid = param_test3, scoring='roc_auc',n_jobs=4,iid=False, cv=5)\n",
    "gsearch3.fit(train[predictors],train[target])\n",
    "gsearch3.grid_scores_, gsearch3.best_params_, gsearch3.best_score_"
   ]
  },
  {
   "cell_type": "markdown",
   "metadata": {},
   "source": [
    "# Step 4: Tune subsample and colsample_bytree"
   ]
  },
  {
   "cell_type": "code",
   "execution_count": null,
   "metadata": {
    "collapsed": true
   },
   "outputs": [],
   "source": [
    "#Remember : use optimal gamma calculated above\n",
    "param_test4 = {\n",
    " 'subsample':[i/10.0 for i in range(6,10)],\n",
    " 'colsample_bytree':[i/10.0 for i in range(6,10)]\n",
    "}\n",
    "gsearch4 = GridSearchCV(estimator = XGBClassifier( learning_rate =0.1, n_estimators=177, max_depth=4,\n",
    " min_child_weight=6, gamma=0, subsample=0.8, colsample_bytree=0.8,\n",
    " objective= 'binary:logistic', nthread=4, scale_pos_weight=1,seed=27), \n",
    " param_grid = param_test4, scoring='roc_auc',n_jobs=4,iid=False, cv=5)\n",
    "gsearch4.fit(train[predictors],train[target])\n",
    "gsearch4.grid_scores_, gsearch4.best_params_, gsearch4.best_score_"
   ]
  },
  {
   "cell_type": "markdown",
   "metadata": {},
   "source": [
    "# Step 5: Reducing Learning Rate"
   ]
  },
  {
   "cell_type": "code",
   "execution_count": null,
   "metadata": {
    "collapsed": true
   },
   "outputs": [],
   "source": [
    "#Remember : use optimal msubsample and colsample_bytree calculated above"
   ]
  },
  {
   "cell_type": "code",
   "execution_count": 100,
   "metadata": {
    "collapsed": true
   },
   "outputs": [],
   "source": [
    "xgb2 = xgb.XGBClassifier(\n",
    " booster='gbtree',\n",
    "            learning_rate = 0.01,\n",
    "            n_estimators=69,\n",
    "            max_depth=8,\n",
    "            min_child_weight=6,\n",
    "            gamma=0.1,\n",
    "            subsample=0.6,\n",
    "            colsample_bytree=0.85,\n",
    "            objective= 'binary:logistic',\n",
    "            nthread=4,\n",
    "            scale_pos_weight=1, \n",
    "            seed=27,\n",
    "            n_jobs=4)"
   ]
  },
  {
   "cell_type": "code",
   "execution_count": null,
   "metadata": {
    "collapsed": true
   },
   "outputs": [],
   "source": [
    "#from sklearn.externals import joblib\n",
    "#xgb = model_XGB.fit(x_train, y_train)\n",
    "#joblib.dump(xgb, 'xgb.model')\n",
    "#xgb = joblib.load('xgb.model')"
   ]
  },
  {
   "cell_type": "markdown",
   "metadata": {},
   "source": [
    "# Plot pCTR"
   ]
  },
  {
   "cell_type": "code",
   "execution_count": null,
   "metadata": {
    "collapsed": true
   },
   "outputs": [],
   "source": [
    "\n",
    "xgb_val = joblib.load('xgb1.model')\n",
    "dval_predprob = xgb_val.predict_proba(x_val)\n",
    "dval_predprob1 = xgb_val.predict_proba(x_val)[:,1]\n",
    "dval_predprob0 = xgb_val.predict_proba(x_val)[:,0]\n",
    "\n",
    "\n",
    "xgb_val11 = joblib.load('xgb11.model')\n",
    "dval_predprob1_ = xgb_val11.predict_proba(x_val)\n",
    "dval_predprob1_1 = xgb_val11.predict_proba(x_val)[:,1]\n",
    "dval_predprob1_0 = xgb_val11.predict_proba(x_val)[:,0]"
   ]
  },
  {
   "cell_type": "code",
   "execution_count": null,
   "metadata": {
    "collapsed": true
   },
   "outputs": [],
   "source": [
    "# click=1 prediction as click = =1 probabilities\n",
    "click_xgb1a=dval_predprob[dval_predprob1.astype(bool),1]\n",
    "click_xgb1b=dval_predprob[dval_predprob0.astype(bool),0]\n",
    "\n",
    "click1_xgb2a=dval_predprob1_[dval_predprob1_1.astype(bool),1]\n",
    "click1_xgb2b=dval_predprob1_[dval_predprob1_0.astype(bool),0]\n",
    "\n",
    "\n",
    "plt.figure(figsize = (10,7))\n",
    "\n",
    "\n",
    "plt.subplot(221)\n",
    "\n",
    "width = 0.6\n",
    "pyplot.hist(click_xgb1a, bins = np.linspace(0.0, 0.06, 300), alpha=0.5, label='Model_xgb1')\n",
    "plt.xlabel('probability', fontsize=10)\n",
    "plt.ylabel('Frequency', fontsize=10)\n",
    "plt.title('Predicted probabilities for clicks = 1', fontsize=13)\n",
    "plt.axvline(0.0042, color = 'grey', linestyle = '--', linewidth = 1)\n",
    "pyplot.legend(loc='upper center')\n",
    "\n",
    "\n",
    "plt.subplot(222)\n",
    "width = 0.6\n",
    "pyplot.hist(click_xgb1b, bins = np.linspace(0.8, 1.00, 300), alpha=0.5, label='Model_xgb1')\n",
    "plt.ylabel('Frequency', fontsize=10)\n",
    "plt.title('Predicted probabilities for clicks = 0', fontsize=13)\n",
    "plt.axvline(0.995, color = 'grey', linestyle = '--', linewidth = 1)\n",
    "pyplot.legend(loc='upper center')\n",
    "\n",
    "plt.subplot(223)\n",
    "width = 0.6\n",
    "pyplot.hist(click1_xgb2a, bins = np.linspace(0.0, 0.06, 300), alpha=0.5, label='Model_xgb2',color='green')\n",
    "plt.ylabel('Frequency', fontsize=10)\n",
    "plt.title('Predicted probabilities for clicks = 1', fontsize=13)\n",
    "plt.axvline(0.0042, color = 'grey', linestyle = '--', linewidth = 1)\n",
    "pyplot.legend(loc='upper center')\n",
    "\n",
    "plt.subplot(224)\n",
    "width = 0.6\n",
    "pyplot.hist(click1_xgb2b, bins = np.linspace(0.8, 1.00, 300), alpha=0.5, label='Model_xgb2',color='green')\n",
    "plt.ylabel('Frequency', fontsize=10)\n",
    "plt.title('Predicted probabilities for clicks = 0', fontsize=13)\n",
    "plt.axvline(0.996, color = 'grey', linestyle = '--', linewidth = 1)\n",
    "pyplot.legend(loc='upper center')\n",
    "\n",
    "plt.tight_layout()\n",
    "plt.show()"
   ]
  },
  {
   "cell_type": "markdown",
   "metadata": {},
   "source": [
    "# Validation part"
   ]
  },
  {
   "cell_type": "code",
   "execution_count": 52,
   "metadata": {
    "collapsed": true
   },
   "outputs": [],
   "source": [
    "#pre = pd.read_csv(\"/Users/bonnieliu/Downloads/pred_lr-2.csv\", sep=',')\n",
    "validation = pd.read_csv(\"/Users/bonnieliu/Downloads/OneDrive_2018-02-26/validation.csv\", sep=',')\n",
    "train = pd.read_csv(\"/Users/bonnieliu/Downloads/OneDrive_2018-02-26/train.csv\", sep=',')\n",
    "test = pd.read_csv(\"/Users/bonnieliu/Downloads/OneDrive_2018-02-26/test.csv\", sep=',')\n"
   ]
  },
  {
   "cell_type": "code",
   "execution_count": 121,
   "metadata": {
    "collapsed": true
   },
   "outputs": [],
   "source": [
    "dval_predprob = pd.DataFrame(dval_predprob,columns=['pCTR'])\n",
    "#dtest_predprob= pd.DataFrame(dtest_predprob,columns=['pCTR'])\n",
    "predCTR=dval_predprob"
   ]
  },
  {
   "cell_type": "code",
   "execution_count": 55,
   "metadata": {},
   "outputs": [
    {
     "data": {
      "text/plain": [
       "0.0007383985358870749"
      ]
     },
     "execution_count": 55,
     "metadata": {},
     "output_type": "execute_result"
    }
   ],
   "source": [
    "#Training set aCTR\n",
    "clicks = len(train[train.click==1])\n",
    "impression = len(train[train.bidprice>train.payprice])\n",
    "aCTR=clicks/impression\n",
    "aCTR"
   ]
  },
  {
   "cell_type": "code",
   "execution_count": 128,
   "metadata": {
    "collapsed": true
   },
   "outputs": [],
   "source": [
    "def evaluate(bidprice):\n",
    "    budget=6250000\n",
    "    impression=0\n",
    "    click=0\n",
    "    for row in range(0,validation.shape[0]):\n",
    "        if budget<validation.payprice[row]:\n",
    "            continue\n",
    "        if bidprice.iloc[row,0]>validation.payprice[row]:\n",
    "            budget=budget-validation.payprice[row]\n",
    "            impression=impression+1\n",
    "            if validation.click[row]==1:\n",
    "                click=click+1\n",
    "    Cost = 6250000 - budget\n",
    "    CTR = click/impression\n",
    "    \n",
    "    #CPM: Cost per mille \n",
    "    CPM = Cost/impression\n",
    "\n",
    "    #eCPC: effective Cost per Click\n",
    "    eCPC = Cost/clicks\n",
    "    estimator = [click,impression,CTR,Cost,CPM,eCPC]\n",
    "    return  estimator"
   ]
  },
  {
   "cell_type": "code",
   "execution_count": 129,
   "metadata": {
    "collapsed": true
   },
   "outputs": [],
   "source": [
    "def bid_linear(basebid, pred_CTR,avg_CTR):\n",
    "    bid = np.zeros((validation.shape[0], 1))\n",
    "    for i in range (0,validation.shape[0]):\n",
    "        bid[i,0] = basebid*(predCTR.pCTR.iloc[i])/avg_CTR\n",
    "    bid = pd.DataFrame(bid)\n",
    "    return bid"
   ]
  },
  {
   "cell_type": "code",
   "execution_count": 136,
   "metadata": {},
   "outputs": [
    {
     "name": "stdout",
     "output_type": "stream",
     "text": [
      "basebid: 4 click: 155 impression: 117490 CTR:0.00132 cost:4795623.0 CPM:40.82 eCPC:2674.64\n",
      "basebid: 5 click: 160 impression: 139812 CTR:0.00114 cost:6249999.0 CPM:44.70 eCPC:3485.78\n",
      "basebid: 6 click: 134 impression: 130253 CTR:0.00103 cost:6250000.0 CPM:47.98 eCPC:3485.78\n",
      "basebid: 7 click: 119 impression: 123014 CTR:0.00097 cost:6250000.0 CPM:50.81 eCPC:3485.78\n"
     ]
    }
   ],
   "source": [
    "#Search for best basebid\n",
    "for counter in np.arange(4,8):\n",
    "    base_bid=counter\n",
    "    bidprice=bid_linear(base_bid, predCTR, aCTR)\n",
    "    estimator = evaluate(bidprice)\n",
    "    print('basebid:',base_bid, 'click:',estimator[0], 'impression:',estimator[1],\n",
    "          'CTR:%.5f'% estimator[2], 'cost:%.1f'% estimator[3], 'CPM:%.2f'% estimator[4], 'eCPC:%.2f'% estimator[5])   "
   ]
  },
  {
   "cell_type": "markdown",
   "metadata": {},
   "source": [
    "# Test"
   ]
  },
  {
   "cell_type": "code",
   "execution_count": 69,
   "metadata": {
    "collapsed": true
   },
   "outputs": [],
   "source": [
    "def bid_linear1(basebid, pred_CTR,avg_CTR):\n",
    "    bid = np.zeros((test.shape[0], 1))\n",
    "    for i in range (0,test.shape[0]):\n",
    "        bid[i,0] = basebid*predCTR.pCTR.iloc[i]/avg_CTR\n",
    "    bid = pd.DataFrame(bid)\n",
    "    return bid"
   ]
  },
  {
   "cell_type": "code",
   "execution_count": null,
   "metadata": {
    "collapsed": true
   },
   "outputs": [],
   "source": [
    "dtest_predprob= pd.DataFrame(dtest_predprob,columns=['pCTR'])\n",
    "predCTR=dtest_predprob"
   ]
  },
  {
   "cell_type": "code",
   "execution_count": 70,
   "metadata": {},
   "outputs": [
    {
     "data": {
      "text/html": [
       "<div>\n",
       "<style>\n",
       "    .dataframe thead tr:only-child th {\n",
       "        text-align: right;\n",
       "    }\n",
       "\n",
       "    .dataframe thead th {\n",
       "        text-align: left;\n",
       "    }\n",
       "\n",
       "    .dataframe tbody tr th {\n",
       "        vertical-align: top;\n",
       "    }\n",
       "</style>\n",
       "<table border=\"1\" class=\"dataframe\">\n",
       "  <thead>\n",
       "    <tr style=\"text-align: right;\">\n",
       "      <th></th>\n",
       "      <th>bidid</th>\n",
       "      <th>bidprice</th>\n",
       "    </tr>\n",
       "  </thead>\n",
       "  <tbody>\n",
       "    <tr>\n",
       "      <th>0</th>\n",
       "      <td>366c563de7d90feb9d4dab53e795a93fb3157387</td>\n",
       "      <td>140.316385</td>\n",
       "    </tr>\n",
       "    <tr>\n",
       "      <th>1</th>\n",
       "      <td>29167d4caa719788b5a342dbaa25151d53121f80</td>\n",
       "      <td>495.113554</td>\n",
       "    </tr>\n",
       "    <tr>\n",
       "      <th>2</th>\n",
       "      <td>ff8bc3f4d44a3ea60c5f3a3a8fbe7cd98fb2966e</td>\n",
       "      <td>26.502562</td>\n",
       "    </tr>\n",
       "    <tr>\n",
       "      <th>3</th>\n",
       "      <td>844c2da00d45315f20b748ec131c26ee99a7cbc7</td>\n",
       "      <td>102.889554</td>\n",
       "    </tr>\n",
       "    <tr>\n",
       "      <th>4</th>\n",
       "      <td>c6017f0ad0c44d7d0c9b62583ea863f28941c0ca</td>\n",
       "      <td>122.936968</td>\n",
       "    </tr>\n",
       "  </tbody>\n",
       "</table>\n",
       "</div>"
      ],
      "text/plain": [
       "                                      bidid    bidprice\n",
       "0  366c563de7d90feb9d4dab53e795a93fb3157387  140.316385\n",
       "1  29167d4caa719788b5a342dbaa25151d53121f80  495.113554\n",
       "2  ff8bc3f4d44a3ea60c5f3a3a8fbe7cd98fb2966e   26.502562\n",
       "3  844c2da00d45315f20b748ec131c26ee99a7cbc7  102.889554\n",
       "4  c6017f0ad0c44d7d0c9b62583ea863f28941c0ca  122.936968"
      ]
     },
     "execution_count": 70,
     "metadata": {},
     "output_type": "execute_result"
    }
   ],
   "source": [
    "result = bid_linear1(5,predCTR, aCTR)\n",
    "result.columns=['bidprice']\n",
    "bidid = pd.DataFrame(test, columns=['bidid'])\n",
    "final = pd.concat([bidid,result], axis=1)\n",
    "final.head()"
   ]
  },
  {
   "cell_type": "code",
   "execution_count": 43,
   "metadata": {
    "collapsed": true
   },
   "outputs": [
    {
     "data": {
      "text/html": [
       "<div>\n",
       "<style>\n",
       "    .dataframe thead tr:only-child th {\n",
       "        text-align: right;\n",
       "    }\n",
       "\n",
       "    .dataframe thead th {\n",
       "        text-align: left;\n",
       "    }\n",
       "\n",
       "    .dataframe tbody tr th {\n",
       "        vertical-align: top;\n",
       "    }\n",
       "</style>\n",
       "<table border=\"1\" class=\"dataframe\">\n",
       "  <thead>\n",
       "    <tr style=\"text-align: right;\">\n",
       "      <th></th>\n",
       "      <th>bidid</th>\n",
       "    </tr>\n",
       "    <tr>\n",
       "      <th>bidprice</th>\n",
       "      <th></th>\n",
       "    </tr>\n",
       "  </thead>\n",
       "  <tbody>\n",
       "    <tr>\n",
       "      <th>18.325756</th>\n",
       "      <td>64</td>\n",
       "    </tr>\n",
       "    <tr>\n",
       "      <th>18.697510</th>\n",
       "      <td>12</td>\n",
       "    </tr>\n",
       "    <tr>\n",
       "      <th>21.236616</th>\n",
       "      <td>114</td>\n",
       "    </tr>\n",
       "    <tr>\n",
       "      <th>22.045428</th>\n",
       "      <td>16</td>\n",
       "    </tr>\n",
       "    <tr>\n",
       "      <th>22.388442</th>\n",
       "      <td>2</td>\n",
       "    </tr>\n",
       "    <tr>\n",
       "      <th>22.458270</th>\n",
       "      <td>3</td>\n",
       "    </tr>\n",
       "    <tr>\n",
       "      <th>22.492621</th>\n",
       "      <td>5</td>\n",
       "    </tr>\n",
       "    <tr>\n",
       "      <th>23.241821</th>\n",
       "      <td>73</td>\n",
       "    </tr>\n",
       "    <tr>\n",
       "      <th>23.280079</th>\n",
       "      <td>54</td>\n",
       "    </tr>\n",
       "    <tr>\n",
       "      <th>23.752314</th>\n",
       "      <td>23</td>\n",
       "    </tr>\n",
       "    <tr>\n",
       "      <th>24.198796</th>\n",
       "      <td>7</td>\n",
       "    </tr>\n",
       "    <tr>\n",
       "      <th>24.252845</th>\n",
       "      <td>11</td>\n",
       "    </tr>\n",
       "    <tr>\n",
       "      <th>25.251441</th>\n",
       "      <td>3</td>\n",
       "    </tr>\n",
       "    <tr>\n",
       "      <th>25.390763</th>\n",
       "      <td>128</td>\n",
       "    </tr>\n",
       "    <tr>\n",
       "      <th>25.546976</th>\n",
       "      <td>223</td>\n",
       "    </tr>\n",
       "    <tr>\n",
       "      <th>25.602963</th>\n",
       "      <td>1</td>\n",
       "    </tr>\n",
       "    <tr>\n",
       "      <th>25.621914</th>\n",
       "      <td>1</td>\n",
       "    </tr>\n",
       "    <tr>\n",
       "      <th>26.025375</th>\n",
       "      <td>10</td>\n",
       "    </tr>\n",
       "    <tr>\n",
       "      <th>26.397764</th>\n",
       "      <td>64</td>\n",
       "    </tr>\n",
       "    <tr>\n",
       "      <th>26.773385</th>\n",
       "      <td>20</td>\n",
       "    </tr>\n",
       "    <tr>\n",
       "      <th>26.774506</th>\n",
       "      <td>42</td>\n",
       "    </tr>\n",
       "    <tr>\n",
       "      <th>26.941108</th>\n",
       "      <td>65</td>\n",
       "    </tr>\n",
       "    <tr>\n",
       "      <th>26.977657</th>\n",
       "      <td>164</td>\n",
       "    </tr>\n",
       "    <tr>\n",
       "      <th>27.016552</th>\n",
       "      <td>1</td>\n",
       "    </tr>\n",
       "    <tr>\n",
       "      <th>27.316461</th>\n",
       "      <td>26</td>\n",
       "    </tr>\n",
       "    <tr>\n",
       "      <th>27.691128</th>\n",
       "      <td>129</td>\n",
       "    </tr>\n",
       "    <tr>\n",
       "      <th>28.005118</th>\n",
       "      <td>20</td>\n",
       "    </tr>\n",
       "    <tr>\n",
       "      <th>28.103736</th>\n",
       "      <td>82</td>\n",
       "    </tr>\n",
       "    <tr>\n",
       "      <th>28.305067</th>\n",
       "      <td>2</td>\n",
       "    </tr>\n",
       "    <tr>\n",
       "      <th>28.380406</th>\n",
       "      <td>81</td>\n",
       "    </tr>\n",
       "    <tr>\n",
       "      <th>...</th>\n",
       "      <td>...</td>\n",
       "    </tr>\n",
       "    <tr>\n",
       "      <th>3158.048730</th>\n",
       "      <td>1</td>\n",
       "    </tr>\n",
       "    <tr>\n",
       "      <th>3679.130403</th>\n",
       "      <td>10</td>\n",
       "    </tr>\n",
       "    <tr>\n",
       "      <th>3960.232089</th>\n",
       "      <td>3</td>\n",
       "    </tr>\n",
       "    <tr>\n",
       "      <th>4226.508068</th>\n",
       "      <td>1</td>\n",
       "    </tr>\n",
       "    <tr>\n",
       "      <th>4300.126588</th>\n",
       "      <td>63</td>\n",
       "    </tr>\n",
       "    <tr>\n",
       "      <th>4653.001530</th>\n",
       "      <td>1</td>\n",
       "    </tr>\n",
       "    <tr>\n",
       "      <th>4665.602347</th>\n",
       "      <td>4</td>\n",
       "    </tr>\n",
       "    <tr>\n",
       "      <th>4796.844987</th>\n",
       "      <td>8</td>\n",
       "    </tr>\n",
       "    <tr>\n",
       "      <th>4935.469871</th>\n",
       "      <td>1</td>\n",
       "    </tr>\n",
       "    <tr>\n",
       "      <th>4991.212554</th>\n",
       "      <td>1</td>\n",
       "    </tr>\n",
       "    <tr>\n",
       "      <th>5828.833549</th>\n",
       "      <td>1</td>\n",
       "    </tr>\n",
       "    <tr>\n",
       "      <th>6151.061305</th>\n",
       "      <td>1</td>\n",
       "    </tr>\n",
       "    <tr>\n",
       "      <th>6551.420564</th>\n",
       "      <td>5</td>\n",
       "    </tr>\n",
       "    <tr>\n",
       "      <th>6824.123560</th>\n",
       "      <td>2</td>\n",
       "    </tr>\n",
       "    <tr>\n",
       "      <th>7062.699129</th>\n",
       "      <td>1</td>\n",
       "    </tr>\n",
       "    <tr>\n",
       "      <th>7417.083434</th>\n",
       "      <td>5</td>\n",
       "    </tr>\n",
       "    <tr>\n",
       "      <th>7893.376735</th>\n",
       "      <td>14</td>\n",
       "    </tr>\n",
       "    <tr>\n",
       "      <th>7902.062430</th>\n",
       "      <td>1</td>\n",
       "    </tr>\n",
       "    <tr>\n",
       "      <th>7991.219399</th>\n",
       "      <td>4</td>\n",
       "    </tr>\n",
       "    <tr>\n",
       "      <th>8086.649945</th>\n",
       "      <td>1</td>\n",
       "    </tr>\n",
       "    <tr>\n",
       "      <th>8437.912170</th>\n",
       "      <td>1</td>\n",
       "    </tr>\n",
       "    <tr>\n",
       "      <th>8538.784691</th>\n",
       "      <td>1</td>\n",
       "    </tr>\n",
       "    <tr>\n",
       "      <th>8577.235488</th>\n",
       "      <td>1</td>\n",
       "    </tr>\n",
       "    <tr>\n",
       "      <th>9090.391912</th>\n",
       "      <td>1</td>\n",
       "    </tr>\n",
       "    <tr>\n",
       "      <th>11462.491383</th>\n",
       "      <td>1</td>\n",
       "    </tr>\n",
       "    <tr>\n",
       "      <th>12925.907359</th>\n",
       "      <td>1</td>\n",
       "    </tr>\n",
       "    <tr>\n",
       "      <th>16488.403388</th>\n",
       "      <td>1</td>\n",
       "    </tr>\n",
       "    <tr>\n",
       "      <th>17113.360011</th>\n",
       "      <td>1</td>\n",
       "    </tr>\n",
       "    <tr>\n",
       "      <th>18097.806617</th>\n",
       "      <td>1</td>\n",
       "    </tr>\n",
       "    <tr>\n",
       "      <th>22532.666024</th>\n",
       "      <td>1</td>\n",
       "    </tr>\n",
       "  </tbody>\n",
       "</table>\n",
       "<p>1986 rows × 1 columns</p>\n",
       "</div>"
      ],
      "text/plain": [
       "              bidid\n",
       "bidprice           \n",
       "18.325756        64\n",
       "18.697510        12\n",
       "21.236616       114\n",
       "22.045428        16\n",
       "22.388442         2\n",
       "22.458270         3\n",
       "22.492621         5\n",
       "23.241821        73\n",
       "23.280079        54\n",
       "23.752314        23\n",
       "24.198796         7\n",
       "24.252845        11\n",
       "25.251441         3\n",
       "25.390763       128\n",
       "25.546976       223\n",
       "25.602963         1\n",
       "25.621914         1\n",
       "26.025375        10\n",
       "26.397764        64\n",
       "26.773385        20\n",
       "26.774506        42\n",
       "26.941108        65\n",
       "26.977657       164\n",
       "27.016552         1\n",
       "27.316461        26\n",
       "27.691128       129\n",
       "28.005118        20\n",
       "28.103736        82\n",
       "28.305067         2\n",
       "28.380406        81\n",
       "...             ...\n",
       "3158.048730       1\n",
       "3679.130403      10\n",
       "3960.232089       3\n",
       "4226.508068       1\n",
       "4300.126588      63\n",
       "4653.001530       1\n",
       "4665.602347       4\n",
       "4796.844987       8\n",
       "4935.469871       1\n",
       "4991.212554       1\n",
       "5828.833549       1\n",
       "6151.061305       1\n",
       "6551.420564       5\n",
       "6824.123560       2\n",
       "7062.699129       1\n",
       "7417.083434       5\n",
       "7893.376735      14\n",
       "7902.062430       1\n",
       "7991.219399       4\n",
       "8086.649945       1\n",
       "8437.912170       1\n",
       "8538.784691       1\n",
       "8577.235488       1\n",
       "9090.391912       1\n",
       "11462.491383      1\n",
       "12925.907359      1\n",
       "16488.403388      1\n",
       "17113.360011      1\n",
       "18097.806617      1\n",
       "22532.666024      1\n",
       "\n",
       "[1986 rows x 1 columns]"
      ]
     },
     "execution_count": 43,
     "metadata": {},
     "output_type": "execute_result"
    }
   ],
   "source": [
    "final.groupby(\"bidprice\").count()"
   ]
  },
  {
   "cell_type": "code",
   "execution_count": 71,
   "metadata": {
    "collapsed": true
   },
   "outputs": [],
   "source": [
    "final.to_csv(\"/Users/bonnieliu/Downloads/Group27xgb1.csv\",index = False)"
   ]
  },
  {
   "cell_type": "code",
   "execution_count": 72,
   "metadata": {
    "collapsed": true
   },
   "outputs": [],
   "source": [
    "xg = pd.read_csv(\"/Users/bonnieliu/Downloads/Group27.csv\",sep=',')"
   ]
  },
  {
   "cell_type": "code",
   "execution_count": 73,
   "metadata": {},
   "outputs": [
    {
     "data": {
      "text/plain": [
       "303375"
      ]
     },
     "execution_count": 73,
     "metadata": {},
     "output_type": "execute_result"
    }
   ],
   "source": [
    "len(xg)"
   ]
  },
  {
   "cell_type": "code",
   "execution_count": null,
   "metadata": {
    "collapsed": true
   },
   "outputs": [],
   "source": []
  }
 ],
 "metadata": {
  "kernelspec": {
   "display_name": "Python 3",
   "language": "python",
   "name": "python3"
  },
  "language_info": {
   "codemirror_mode": {
    "name": "ipython",
    "version": 3
   },
   "file_extension": ".py",
   "mimetype": "text/x-python",
   "name": "python",
   "nbconvert_exporter": "python",
   "pygments_lexer": "ipython3",
   "version": "3.6.3"
  }
 },
 "nbformat": 4,
 "nbformat_minor": 2
}
